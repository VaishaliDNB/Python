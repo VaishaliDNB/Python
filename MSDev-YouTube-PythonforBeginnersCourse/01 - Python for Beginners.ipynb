{
 "cells": [
  {
   "cell_type": "markdown",
   "metadata": {},
   "source": [
    "# Day 19 - May 10, 2020"
   ]
  },
  {
   "cell_type": "markdown",
   "metadata": {},
   "source": [
    "### Python for Beginners - YouTube playlist by Microsoft Developer"
   ]
  },
  {
   "cell_type": "code",
   "execution_count": 1,
   "metadata": {},
   "outputs": [
    {
     "name": "stdout",
     "output_type": "stream",
     "text": [
      "Hello World\n"
     ]
    }
   ],
   "source": [
    "# print to screen\n",
    "\n",
    "print(\"Hello World\")"
   ]
  },
  {
   "cell_type": "code",
   "execution_count": 2,
   "metadata": {},
   "outputs": [
    {
     "name": "stdout",
     "output_type": "stream",
     "text": [
      "Hello World\n"
     ]
    }
   ],
   "source": [
    "print('Hello World')"
   ]
  },
  {
   "cell_type": "code",
   "execution_count": 3,
   "metadata": {},
   "outputs": [
    {
     "name": "stdout",
     "output_type": "stream",
     "text": [
      "Please enter your name: Chug\n"
     ]
    }
   ],
   "source": [
    "# user input\n",
    "\n",
    "name = input('Please enter your name: ')"
   ]
  },
  {
   "cell_type": "code",
   "execution_count": 4,
   "metadata": {},
   "outputs": [
    {
     "name": "stdout",
     "output_type": "stream",
     "text": [
      "Hello Chug\n"
     ]
    }
   ],
   "source": [
    "print(\"Hello \" + name)"
   ]
  },
  {
   "cell_type": "code",
   "execution_count": 5,
   "metadata": {},
   "outputs": [
    {
     "name": "stdout",
     "output_type": "stream",
     "text": [
      "Hello World\n",
      "\n",
      "Did you see that blank line?\n",
      "Blank line \n",
      " in the middle of the string\n"
     ]
    }
   ],
   "source": [
    "# Blank line\n",
    "\n",
    "print(\"Hello World\")\n",
    "print()\n",
    "print(\"Did you see that blank line?\")\n",
    "print(\"Blank line \\n in the middle of the string\")"
   ]
  },
  {
   "cell_type": "code",
   "execution_count": 7,
   "metadata": {},
   "outputs": [
    {
     "name": "stdout",
     "output_type": "stream",
     "text": [
      "Adding numbers\n",
      "Performing division\n"
     ]
    },
    {
     "ename": "ZeroDivisionError",
     "evalue": "division by zero",
     "output_type": "error",
     "traceback": [
      "\u001b[1;31m---------------------------------------------------------------------------\u001b[0m",
      "\u001b[1;31mZeroDivisionError\u001b[0m                         Traceback (most recent call last)",
      "\u001b[1;32m<ipython-input-7-24a1c8724809>\u001b[0m in \u001b[0;36m<module>\u001b[1;34m\u001b[0m\n\u001b[0;32m      4\u001b[0m \u001b[0mx\u001b[0m \u001b[1;33m=\u001b[0m \u001b[1;36m3\u001b[0m \u001b[1;33m+\u001b[0m \u001b[1;36m4\u001b[0m\u001b[1;33m\u001b[0m\u001b[1;33m\u001b[0m\u001b[0m\n\u001b[0;32m      5\u001b[0m \u001b[0mprint\u001b[0m\u001b[1;33m(\u001b[0m\u001b[1;34m\"Performing division\"\u001b[0m\u001b[1;33m)\u001b[0m\u001b[1;33m\u001b[0m\u001b[1;33m\u001b[0m\u001b[0m\n\u001b[1;32m----> 6\u001b[1;33m \u001b[0my\u001b[0m\u001b[1;33m=\u001b[0m\u001b[0mx\u001b[0m\u001b[1;33m/\u001b[0m\u001b[1;36m0\u001b[0m\u001b[1;33m\u001b[0m\u001b[1;33m\u001b[0m\u001b[0m\n\u001b[0m\u001b[0;32m      7\u001b[0m \u001b[0mprint\u001b[0m\u001b[1;33m(\u001b[0m\u001b[1;34m\"Math complete\"\u001b[0m\u001b[1;33m)\u001b[0m\u001b[1;33m\u001b[0m\u001b[1;33m\u001b[0m\u001b[0m\n",
      "\u001b[1;31mZeroDivisionError\u001b[0m: division by zero"
     ]
    }
   ],
   "source": [
    "# debugging with print\n",
    "\n",
    "print(\"Adding numbers\")\n",
    "x = 3 + 4\n",
    "print(\"Performing division\")\n",
    "y=x/0\n",
    "print(\"Math complete\")"
   ]
  },
  {
   "cell_type": "code",
   "execution_count": 8,
   "metadata": {},
   "outputs": [
    {
     "name": "stdout",
     "output_type": "stream",
     "text": [
      "Hello Dusty Crophopper!\n"
     ]
    }
   ],
   "source": [
    "# strings\n",
    "\n",
    "first_name = \"Dusty\"\n",
    "last_name = \"Crophopper\"\n",
    "print(\"Hello \" + first_name + \" \" + last_name + \"!\")"
   ]
  },
  {
   "cell_type": "code",
   "execution_count": 9,
   "metadata": {},
   "outputs": [
    {
     "name": "stdout",
     "output_type": "stream",
     "text": [
      "The dog is named Pablo\n",
      "THE DOG IS NAMED PABLO\n",
      "the dog is named pablo\n",
      "The dog is named pablo\n",
      "2\n"
     ]
    }
   ],
   "source": [
    "sentence = \"The dog is named Pablo\"\n",
    "print(sentence)\n",
    "print(sentence.upper())\n",
    "print(sentence.lower())\n",
    "print(sentence.capitalize())\n",
    "print(sentence.count(\"a\"))"
   ]
  },
  {
   "cell_type": "code",
   "execution_count": 10,
   "metadata": {},
   "outputs": [
    {
     "name": "stdout",
     "output_type": "stream",
     "text": [
      "What is your first name? Dusty\n",
      "What is your last name? crophopper\n"
     ]
    }
   ],
   "source": [
    "first_name = input(\"What is your first name? \")\n",
    "last_name = input(\"What is your last name? \")"
   ]
  },
  {
   "cell_type": "code",
   "execution_count": 11,
   "metadata": {},
   "outputs": [
    {
     "name": "stdout",
     "output_type": "stream",
     "text": [
      "Hello Dusty Crophopper!\n"
     ]
    }
   ],
   "source": [
    "print(\"Hello \" + first_name.capitalize() + \" \" + last_name.capitalize() + \"!\")"
   ]
  },
  {
   "cell_type": "code",
   "execution_count": 12,
   "metadata": {},
   "outputs": [
    {
     "name": "stdout",
     "output_type": "stream",
     "text": [
      "Hello, Dusty crophopper\n"
     ]
    }
   ],
   "source": [
    "# Custom string formatting\n",
    "\n",
    "output = \"Hello, \" + first_name + \" \" + last_name\n",
    "\n",
    "print(output)"
   ]
  },
  {
   "cell_type": "code",
   "execution_count": 13,
   "metadata": {},
   "outputs": [
    {
     "name": "stdout",
     "output_type": "stream",
     "text": [
      "Hello, Dusty crophopper\n"
     ]
    }
   ],
   "source": [
    "output = \"Hello, {} {}\".format(first_name, last_name)\n",
    "\n",
    "print(output)"
   ]
  },
  {
   "cell_type": "code",
   "execution_count": 14,
   "metadata": {},
   "outputs": [
    {
     "name": "stdout",
     "output_type": "stream",
     "text": [
      "Hello, Dusty crophopper\n"
     ]
    }
   ],
   "source": [
    "output = \"Hello, {0} {1}\".format(first_name, last_name)\n",
    "\n",
    "print(output)"
   ]
  },
  {
   "cell_type": "code",
   "execution_count": 15,
   "metadata": {},
   "outputs": [
    {
     "name": "stdout",
     "output_type": "stream",
     "text": [
      "Hello, crophopper, Dusty\n"
     ]
    }
   ],
   "source": [
    "output = \"Hello, {1}, {0}\".format(first_name, last_name)\n",
    "\n",
    "print(output)"
   ]
  },
  {
   "cell_type": "code",
   "execution_count": 16,
   "metadata": {},
   "outputs": [
    {
     "name": "stdout",
     "output_type": "stream",
     "text": [
      "Hello, Dusty crophopper\n"
     ]
    }
   ],
   "source": [
    "output = f\"Hello, {first_name} {last_name}\"\n",
    "\n",
    "print(output)"
   ]
  },
  {
   "cell_type": "code",
   "execution_count": 17,
   "metadata": {},
   "outputs": [
    {
     "name": "stdout",
     "output_type": "stream",
     "text": [
      "3.14159\n"
     ]
    }
   ],
   "source": [
    "# Numbers\n",
    "\n",
    "pi = 3.14159\n",
    "print(pi)"
   ]
  },
  {
   "cell_type": "code",
   "execution_count": 18,
   "metadata": {},
   "outputs": [
    {
     "name": "stdout",
     "output_type": "stream",
     "text": [
      "8\n",
      "36\n"
     ]
    }
   ],
   "source": [
    "first_num = 6\n",
    "second_num = 2\n",
    "\n",
    "print(first_num + second_num)\n",
    "print(first_num ** second_num)"
   ]
  },
  {
   "cell_type": "code",
   "execution_count": 19,
   "metadata": {},
   "outputs": [
    {
     "name": "stdout",
     "output_type": "stream",
     "text": [
      "28 days in Feb\n"
     ]
    }
   ],
   "source": [
    "days_in_feb = 28\n",
    "print(str(days_in_feb) + \" days in Feb\") # convert int to str to add to string"
   ]
  },
  {
   "cell_type": "code",
   "execution_count": 20,
   "metadata": {},
   "outputs": [
    {
     "name": "stdout",
     "output_type": "stream",
     "text": [
      "56\n"
     ]
    }
   ],
   "source": [
    "first_num = \"5\"\n",
    "second_num = \"6\"\n",
    "\n",
    "print(first_num + second_num) #concatenates since the  numbers are stored as strings"
   ]
  },
  {
   "cell_type": "code",
   "execution_count": 21,
   "metadata": {},
   "outputs": [
    {
     "name": "stdout",
     "output_type": "stream",
     "text": [
      "Please enter a number: 2\n",
      "Please enter another number: 3\n"
     ]
    }
   ],
   "source": [
    "# input function always returns strings\n",
    "\n",
    "first_num = input(\"Please enter a number: \")\n",
    "second_num = input(\"Please enter another number: \")"
   ]
  },
  {
   "cell_type": "code",
   "execution_count": 22,
   "metadata": {},
   "outputs": [
    {
     "name": "stdout",
     "output_type": "stream",
     "text": [
      "23\n"
     ]
    }
   ],
   "source": [
    "print(first_num + second_num)"
   ]
  },
  {
   "cell_type": "code",
   "execution_count": 23,
   "metadata": {},
   "outputs": [
    {
     "name": "stdout",
     "output_type": "stream",
     "text": [
      "Please enter a number: 3\n",
      "Please enter another number: 4\n"
     ]
    }
   ],
   "source": [
    "# input function always returns strings\n",
    "\n",
    "first_num = input(\"Please enter a number: \")\n",
    "second_num = input(\"Please enter another number: \")"
   ]
  },
  {
   "cell_type": "code",
   "execution_count": 24,
   "metadata": {},
   "outputs": [
    {
     "name": "stdout",
     "output_type": "stream",
     "text": [
      "7\n"
     ]
    }
   ],
   "source": [
    "# converting input string to int\n",
    "\n",
    "print(int(first_num) + int(second_num))"
   ]
  },
  {
   "cell_type": "code",
   "execution_count": 25,
   "metadata": {},
   "outputs": [
    {
     "name": "stdout",
     "output_type": "stream",
     "text": [
      "7.0\n"
     ]
    }
   ],
   "source": [
    "# converting input string to float\n",
    "\n",
    "print(float(first_num) + float(second_num))"
   ]
  },
  {
   "cell_type": "code",
   "execution_count": 26,
   "metadata": {},
   "outputs": [],
   "source": [
    "# Dates\n",
    "\n",
    "from datetime import datetime, timedelta"
   ]
  },
  {
   "cell_type": "code",
   "execution_count": 27,
   "metadata": {},
   "outputs": [
    {
     "name": "stdout",
     "output_type": "stream",
     "text": [
      "Today is: 2020-06-04 15:40:26.303600\n"
     ]
    }
   ],
   "source": [
    "today = datetime.now()\n",
    "\n",
    "print(\"Today is: \" + str(today)) # converting to string"
   ]
  },
  {
   "cell_type": "code",
   "execution_count": 28,
   "metadata": {},
   "outputs": [
    {
     "name": "stdout",
     "output_type": "stream",
     "text": [
      "Yesterday was: 2020-06-03 15:40:26.303600\n"
     ]
    }
   ],
   "source": [
    "one_day = timedelta(days = 1)\n",
    "yesterday = today - one_day\n",
    "\n",
    "print(\"Yesterday was: \" + str(yesterday))"
   ]
  },
  {
   "cell_type": "code",
   "execution_count": 29,
   "metadata": {},
   "outputs": [
    {
     "name": "stdout",
     "output_type": "stream",
     "text": [
      "Last week was: 2020-05-28 15:40:26.303600\n"
     ]
    }
   ],
   "source": [
    "one_week = timedelta(weeks = 1)\n",
    "last_week = today - one_week\n",
    "\n",
    "print(\"Last week was: \" + str(last_week))"
   ]
  },
  {
   "cell_type": "code",
   "execution_count": 30,
   "metadata": {},
   "outputs": [
    {
     "name": "stdout",
     "output_type": "stream",
     "text": [
      "Day: 4\n",
      "Month: 6\n",
      "Year: 2020\n",
      "Hour: 15\n",
      "Minute: 41\n",
      "Second: 6\n"
     ]
    }
   ],
   "source": [
    "# date formatting\n",
    "\n",
    "current_date = datetime.now()\n",
    "\n",
    "print(\"Day: \" + str(current_date.day))\n",
    "print(\"Month: \" + str(current_date.month))\n",
    "print(\"Year: \" + str(current_date.year))\n",
    "\n",
    "print(\"Hour: \" + str(current_date.hour))\n",
    "print(\"Minute: \" + str(current_date.minute))\n",
    "print(\"Second: \" + str(current_date.second))"
   ]
  },
  {
   "cell_type": "code",
   "execution_count": 31,
   "metadata": {},
   "outputs": [
    {
     "name": "stdout",
     "output_type": "stream",
     "text": [
      "When is your birthday (dd/mm/yyyy)? 01/01/2001\n",
      "Birthday: 2001-01-01 00:00:00\n"
     ]
    }
   ],
   "source": [
    "# converting from string to datetime\n",
    "\n",
    "birthday = input(\"When is your birthday (dd/mm/yyyy)? \")\n",
    "\n",
    "birthday_date = datetime.strptime(birthday, \"%d/%m/%Y\")\n",
    "\n",
    "print (\"Birthday: \" + str(birthday_date))"
   ]
  },
  {
   "cell_type": "code",
   "execution_count": 32,
   "metadata": {},
   "outputs": [
    {
     "name": "stdout",
     "output_type": "stream",
     "text": [
      "Birthday Eve:2000-12-31 00:00:00\n"
     ]
    }
   ],
   "source": [
    "one_day = timedelta(days=1)\n",
    "birthday_eve = birthday_date - one_day\n",
    "print(\"Birthday Eve:\" + str(birthday_eve))"
   ]
  },
  {
   "cell_type": "code",
   "execution_count": 33,
   "metadata": {},
   "outputs": [],
   "source": [
    "# error handling"
   ]
  },
  {
   "cell_type": "code",
   "execution_count": 34,
   "metadata": {},
   "outputs": [
    {
     "ename": "SyntaxError",
     "evalue": "invalid syntax (<ipython-input-34-3cbdea0c746b>, line 6)",
     "output_type": "error",
     "traceback": [
      "\u001b[1;36m  File \u001b[1;32m\"<ipython-input-34-3cbdea0c746b>\"\u001b[1;36m, line \u001b[1;32m6\u001b[0m\n\u001b[1;33m    if x == y\u001b[0m\n\u001b[1;37m             ^\u001b[0m\n\u001b[1;31mSyntaxError\u001b[0m\u001b[1;31m:\u001b[0m invalid syntax\n"
     ]
    }
   ],
   "source": [
    "# syntax error - code wont run at all\n",
    "\n",
    "x = 42\n",
    "y = 206\n",
    "\n",
    "if x == y\n",
    "    print(\"Success!\")"
   ]
  },
  {
   "cell_type": "code",
   "execution_count": 35,
   "metadata": {},
   "outputs": [
    {
     "ename": "ZeroDivisionError",
     "evalue": "division by zero",
     "output_type": "error",
     "traceback": [
      "\u001b[1;31m---------------------------------------------------------------------------\u001b[0m",
      "\u001b[1;31mZeroDivisionError\u001b[0m                         Traceback (most recent call last)",
      "\u001b[1;32m<ipython-input-35-2afd24a1a275>\u001b[0m in \u001b[0;36m<module>\u001b[1;34m\u001b[0m\n\u001b[0;32m      4\u001b[0m \u001b[0my\u001b[0m\u001b[1;33m=\u001b[0m\u001b[1;36m0\u001b[0m\u001b[1;33m\u001b[0m\u001b[1;33m\u001b[0m\u001b[0m\n\u001b[0;32m      5\u001b[0m \u001b[1;33m\u001b[0m\u001b[0m\n\u001b[1;32m----> 6\u001b[1;33m \u001b[0mprint\u001b[0m\u001b[1;33m(\u001b[0m\u001b[0mx\u001b[0m\u001b[1;33m/\u001b[0m\u001b[0my\u001b[0m\u001b[1;33m)\u001b[0m\u001b[1;33m\u001b[0m\u001b[1;33m\u001b[0m\u001b[0m\n\u001b[0m",
      "\u001b[1;31mZeroDivisionError\u001b[0m: division by zero"
     ]
    }
   ],
   "source": [
    "# runtime error - code will fail when it runs \n",
    "\n",
    "x=42\n",
    "y=0\n",
    "\n",
    "print(x/y)"
   ]
  },
  {
   "cell_type": "code",
   "execution_count": 36,
   "metadata": {},
   "outputs": [
    {
     "name": "stdout",
     "output_type": "stream",
     "text": [
      "Cant divide by zero\n",
      "This is the cleanup code that always runs on success or failure\n"
     ]
    }
   ],
   "source": [
    "try:\n",
    "    print(x/y)\n",
    "except ZeroDivisionError as e:\n",
    "    print(\"Cant divide by zero\")\n",
    "except:\n",
    "    print(\"Something else went wrong\")\n",
    "finally:\n",
    "    print(\"This is the cleanup code that always runs on success or failure\")"
   ]
  },
  {
   "cell_type": "code",
   "execution_count": 37,
   "metadata": {},
   "outputs": [
    {
     "name": "stdout",
     "output_type": "stream",
     "text": [
      "20 is greater than 42\n"
     ]
    }
   ],
   "source": [
    "# logic error - the code will run, but give wrong results\n",
    "\n",
    "x = 20\n",
    "y = 42\n",
    "\n",
    "if x < y:\n",
    "    print(str(x) + \" is greater than \" + str(y))"
   ]
  },
  {
   "cell_type": "markdown",
   "metadata": {},
   "source": [
    "# Day 20 - May 11, 2020"
   ]
  },
  {
   "cell_type": "code",
   "execution_count": 38,
   "metadata": {},
   "outputs": [
    {
     "name": "stdout",
     "output_type": "stream",
     "text": [
      "Please enter the price: 10\n"
     ]
    }
   ],
   "source": [
    "# Handling conditions\n",
    "\n",
    "price = int(input('Please enter the price: '))"
   ]
  },
  {
   "cell_type": "code",
   "execution_count": 39,
   "metadata": {},
   "outputs": [
    {
     "name": "stdout",
     "output_type": "stream",
     "text": [
      "Tax Rate is:0.07\n"
     ]
    }
   ],
   "source": [
    "if price >= 1.00:\n",
    "    tax = 0.07\n",
    "else:\n",
    "    tax = 0\n",
    "print('Tax Rate is:' + str(tax))"
   ]
  },
  {
   "cell_type": "code",
   "execution_count": 40,
   "metadata": {},
   "outputs": [
    {
     "name": "stdout",
     "output_type": "stream",
     "text": [
      "Which country are you from: India\n"
     ]
    }
   ],
   "source": [
    "country = input('Which country are you from: ')"
   ]
  },
  {
   "cell_type": "code",
   "execution_count": 41,
   "metadata": {},
   "outputs": [
    {
     "name": "stdout",
     "output_type": "stream",
     "text": [
      "So you must like Cricket!\n"
     ]
    }
   ],
   "source": [
    "if country.upper() == 'INDIA':\n",
    "    print('So you must like Cricket!')\n",
    "else:\n",
    "    print('You are not from India')"
   ]
  },
  {
   "cell_type": "code",
   "execution_count": 42,
   "metadata": {},
   "outputs": [
    {
     "name": "stdout",
     "output_type": "stream",
     "text": [
      "Which country are you from: Canada\n"
     ]
    }
   ],
   "source": [
    "country = input('Which country are you from: ')"
   ]
  },
  {
   "cell_type": "code",
   "execution_count": 43,
   "metadata": {},
   "outputs": [
    {
     "name": "stdout",
     "output_type": "stream",
     "text": [
      "Which province do you live in: Ontario\n",
      "Tax Rate is: 0.13\n"
     ]
    }
   ],
   "source": [
    "if country.capitalize() == 'Canada':\n",
    "    province = input('Which province do you live in: ')\n",
    "    if province.capitalize() in ('Alberta', 'Nunavat', 'Yukon'):\n",
    "        tax = 0.05\n",
    "    elif province.capitalize() == 'Ontario':\n",
    "        tax = 0.13\n",
    "    else:\n",
    "        tax = 0.07\n",
    "else:\n",
    "    tax = 0.00\n",
    "print('Tax Rate is: ' + str(tax))"
   ]
  },
  {
   "cell_type": "code",
   "execution_count": 44,
   "metadata": {},
   "outputs": [
    {
     "name": "stdout",
     "output_type": "stream",
     "text": [
      "What is your Grade Point Average: .88\n",
      "What is your Lowest Grade: .75\n",
      "\n",
      "Yay! You made the honour roll\n"
     ]
    }
   ],
   "source": [
    "# combining conditions using And\n",
    "# storing result in a boolean flag and using that later in the code\n",
    "\n",
    "gpa = float(input('What is your Grade Point Average: '))\n",
    "lowest_grade = float(input('What is your Lowest Grade: '))\n",
    "\n",
    "if gpa > 0.85 and lowest_grade > 0.7:\n",
    "    honour_roll = True\n",
    "else:\n",
    "    honour_roll = False\n",
    "    \n",
    "if honour_roll:\n",
    "    print('\\nYay! You made the honour roll')\n",
    "else:\n",
    "    print('\\nSorry! You did not make the honour roll')"
   ]
  },
  {
   "cell_type": "code",
   "execution_count": 45,
   "metadata": {},
   "outputs": [
    {
     "name": "stdout",
     "output_type": "stream",
     "text": [
      "[97, 98]\n",
      "98\n"
     ]
    }
   ],
   "source": [
    "# Collections - lists, arrays and dictionaries\n",
    "# Lists - collections of items - any data type, multiple data types\n",
    "\n",
    "scores = []\n",
    "scores.append(97)\n",
    "scores.append(98)\n",
    "\n",
    "print(scores)\n",
    "print(scores[1])"
   ]
  },
  {
   "cell_type": "code",
   "execution_count": 10,
   "metadata": {},
   "outputs": [
    {
     "name": "stdout",
     "output_type": "stream",
     "text": [
      "['Dusty', 'Chug']\n"
     ]
    }
   ],
   "source": [
    "names = ['Dusty', 'Chug']\n",
    "\n",
    "print (names)"
   ]
  },
  {
   "cell_type": "code",
   "execution_count": 11,
   "metadata": {},
   "outputs": [
    {
     "name": "stdout",
     "output_type": "stream",
     "text": [
      "['Dusty', 'Chug', 'Dotty']\n",
      "3\n"
     ]
    }
   ],
   "source": [
    "names.append('Dotty')\n",
    "\n",
    "print(names)\n",
    "print(len(names))"
   ]
  },
  {
   "cell_type": "code",
   "execution_count": 12,
   "metadata": {},
   "outputs": [
    {
     "name": "stdout",
     "output_type": "stream",
     "text": [
      "['Dusty', 'Chug', 'Skipper', 'Dotty']\n"
     ]
    }
   ],
   "source": [
    "names.insert(2, 'Skipper')\n",
    "\n",
    "print(names)"
   ]
  },
  {
   "cell_type": "code",
   "execution_count": 13,
   "metadata": {},
   "outputs": [
    {
     "name": "stdout",
     "output_type": "stream",
     "text": [
      "['Chug', 'Dotty', 'Dusty', 'Skipper']\n"
     ]
    }
   ],
   "source": [
    "names.sort()\n",
    "\n",
    "print(names)"
   ]
  },
  {
   "cell_type": "code",
   "execution_count": 14,
   "metadata": {},
   "outputs": [
    {
     "name": "stdout",
     "output_type": "stream",
     "text": [
      "['Chug', 'Dotty', 'Dusty']\n"
     ]
    }
   ],
   "source": [
    "nicknames = names[0:3]\n",
    "\n",
    "print(nicknames)"
   ]
  },
  {
   "cell_type": "code",
   "execution_count": 15,
   "metadata": {},
   "outputs": [
    {
     "name": "stdout",
     "output_type": "stream",
     "text": [
      "['Chug', 'Dotty', 'Dusty']\n"
     ]
    }
   ],
   "source": [
    "nicknames = names[ :3]\n",
    "\n",
    "print(nicknames)"
   ]
  },
  {
   "cell_type": "code",
   "execution_count": 52,
   "metadata": {},
   "outputs": [
    {
     "name": "stdout",
     "output_type": "stream",
     "text": [
      "array('d', [97.0, 98.0])\n"
     ]
    }
   ],
   "source": [
    "# arrays are also collections - only of numeric data types and everything inside is the same type - more structure\n",
    "\n",
    "from array import array\n",
    "\n",
    "scores_array = array('d')\n",
    "\n",
    "scores_array.append(97)\n",
    "scores_array.append(98)\n",
    "\n",
    "print(scores_array)"
   ]
  },
  {
   "cell_type": "code",
   "execution_count": 1,
   "metadata": {},
   "outputs": [
    {
     "name": "stdout",
     "output_type": "stream",
     "text": [
      "{'first': 'Dusty', 'last': 'Crophopper'}\n"
     ]
    }
   ],
   "source": [
    "# dictionaries - have key value pairs and storage order is not guaranteed\n",
    "\n",
    "yo = {'first' : 'Dusty'}\n",
    "yo['last'] = 'Crophopper'\n",
    "\n",
    "print(yo)"
   ]
  },
  {
   "cell_type": "code",
   "execution_count": 2,
   "metadata": {},
   "outputs": [
    {
     "name": "stdout",
     "output_type": "stream",
     "text": [
      "Dusty\n"
     ]
    }
   ],
   "source": [
    "print(yo['first'])"
   ]
  },
  {
   "cell_type": "code",
   "execution_count": 3,
   "metadata": {},
   "outputs": [
    {
     "name": "stdout",
     "output_type": "stream",
     "text": [
      "{'first': 'El', 'last': 'Chubacabra'}\n"
     ]
    }
   ],
   "source": [
    "friend = {}\n",
    "friend['first'] = 'El'\n",
    "friend['last'] = 'Chubacabra'\n",
    "\n",
    "print(friend)"
   ]
  },
  {
   "cell_type": "code",
   "execution_count": 4,
   "metadata": {},
   "outputs": [],
   "source": [
    "Planes = []\n",
    "Planes.append(friend)\n",
    "Planes.append(yo)"
   ]
  },
  {
   "cell_type": "code",
   "execution_count": 5,
   "metadata": {},
   "outputs": [
    {
     "name": "stdout",
     "output_type": "stream",
     "text": [
      "[{'first': 'El', 'last': 'Chubacabra'}, {'first': 'Dusty', 'last': 'Crophopper'}]\n"
     ]
    }
   ],
   "source": [
    "print(Planes)"
   ]
  },
  {
   "cell_type": "code",
   "execution_count": 6,
   "metadata": {},
   "outputs": [],
   "source": [
    "Planes.append({'first':'Bull', 'last':'Dog'})"
   ]
  },
  {
   "cell_type": "code",
   "execution_count": 7,
   "metadata": {},
   "outputs": [
    {
     "name": "stdout",
     "output_type": "stream",
     "text": [
      "[{'first': 'El', 'last': 'Chubacabra'}, {'first': 'Dusty', 'last': 'Crophopper'}, {'first': 'Bull', 'last': 'Dog'}]\n"
     ]
    }
   ],
   "source": [
    "print(Planes)"
   ]
  },
  {
   "cell_type": "code",
   "execution_count": 8,
   "metadata": {},
   "outputs": [
    {
     "name": "stdout",
     "output_type": "stream",
     "text": [
      "kittoo\n",
      "mimu\n"
     ]
    }
   ],
   "source": [
    "# Loops in Python\n",
    "\n",
    "# looping through a collection - best to use with a list\n",
    "for name in ['kittoo','mimu']:\n",
    "    print(name)"
   ]
  },
  {
   "cell_type": "code",
   "execution_count": 16,
   "metadata": {},
   "outputs": [
    {
     "name": "stdout",
     "output_type": "stream",
     "text": [
      "Chug\n",
      "Dotty\n",
      "Dusty\n",
      "Skipper\n"
     ]
    }
   ],
   "source": [
    "for name in names:\n",
    "    print(name)"
   ]
  },
  {
   "cell_type": "code",
   "execution_count": 17,
   "metadata": {},
   "outputs": [
    {
     "name": "stdout",
     "output_type": "stream",
     "text": [
      "1\n",
      "2\n",
      "3\n"
     ]
    }
   ],
   "source": [
    "# looping a number of times\n",
    "for number in range(1,4):\n",
    "    print(number)"
   ]
  },
  {
   "cell_type": "code",
   "execution_count": 18,
   "metadata": {},
   "outputs": [
    {
     "name": "stdout",
     "output_type": "stream",
     "text": [
      "Chug\n",
      "Dotty\n",
      "Dusty\n",
      "Skipper\n"
     ]
    }
   ],
   "source": [
    "# looping with a condition\n",
    "count = 0\n",
    "while count < len(names):\n",
    "    print(names[count])\n",
    "    count = count + 1    #changing the condition"
   ]
  },
  {
   "cell_type": "code",
   "execution_count": 19,
   "metadata": {},
   "outputs": [
    {
     "name": "stdout",
     "output_type": "stream",
     "text": [
      "Task completed\n",
      "2020-06-05 11:36:42.757564\n",
      "\n",
      "1\n",
      "2\n",
      "3\n",
      "4\n",
      "5\n",
      "6\n",
      "7\n",
      "8\n",
      "9\n",
      "10\n",
      "Task completed\n",
      "2020-06-05 11:36:42.758563\n",
      "\n"
     ]
    }
   ],
   "source": [
    "# Functions\n",
    "\n",
    "# Copying and pasting code to print timestamps to see how long different sections of code take to run\n",
    "\n",
    "from datetime import datetime\n",
    "\n",
    "first_name = 'Vaishali'\n",
    "\n",
    "print('Task completed')\n",
    "print(datetime.now())\n",
    "print()\n",
    "\n",
    "for number in range(1,11):\n",
    "    print(number)\n",
    "\n",
    "print('Task completed')\n",
    "print(datetime.now())\n",
    "print()"
   ]
  },
  {
   "cell_type": "code",
   "execution_count": 3,
   "metadata": {},
   "outputs": [
    {
     "name": "stdout",
     "output_type": "stream",
     "text": [
      "Task completed\n",
      "2020-05-12 11:18:19.819955\n",
      "\n",
      "1\n",
      "2\n",
      "3\n",
      "4\n",
      "5\n",
      "6\n",
      "7\n",
      "8\n",
      "9\n",
      "10\n",
      "Task completed\n",
      "2020-05-12 11:18:19.820953\n",
      "\n"
     ]
    }
   ],
   "source": [
    "# creating a function instead\n",
    "\n",
    "# function to print current date and time \n",
    "def print_time():\n",
    "    print('Task completed')\n",
    "    print(datetime.now())\n",
    "    print()\n",
    "    \n",
    "first_name = 'Vaishali'\n",
    "\n",
    "print_time()\n",
    "\n",
    "for number in range(1,11):\n",
    "    print(number)\n",
    "    \n",
    "print_time()"
   ]
  },
  {
   "cell_type": "code",
   "execution_count": 20,
   "metadata": {
    "scrolled": false
   },
   "outputs": [
    {
     "name": "stdout",
     "output_type": "stream",
     "text": [
      "First name assigned\n",
      "2020-06-05 11:36:59.529877\n",
      "\n",
      "1\n",
      "2\n",
      "3\n",
      "4\n",
      "5\n",
      "6\n",
      "7\n",
      "8\n",
      "9\n",
      "10\n",
      "Loop completed\n",
      "2020-06-05 11:36:59.530357\n",
      "\n"
     ]
    }
   ],
   "source": [
    "# passing parameter to functions\n",
    "\n",
    "# function to print current date and time, with the task name passed in the parameter\n",
    "def print_time(task_name):\n",
    "    print(task_name)\n",
    "    print(datetime.now())\n",
    "    print()\n",
    "    \n",
    "first_name = 'Vaishali'\n",
    "\n",
    "print_time('First name assigned')\n",
    "\n",
    "for number in range(1,11):\n",
    "    print(number)\n",
    "    \n",
    "print_time('Loop completed')"
   ]
  },
  {
   "cell_type": "code",
   "execution_count": 21,
   "metadata": {},
   "outputs": [
    {
     "name": "stdout",
     "output_type": "stream",
     "text": [
      "Enter your first name: Dusty\n",
      "Enter your last name: Crophopper\n",
      "Your initials are: DC\n"
     ]
    }
   ],
   "source": [
    "# doing the same logic multiple times\n",
    "\n",
    "first_name = input('Enter your first name: ')\n",
    "first_name_initial = first_name[0:1]\n",
    "last_name = input('Enter your last name: ')\n",
    "last_name_initial = last_name[0:1]\n",
    "\n",
    "print('Your initials are: ' + first_name_initial + last_name_initial)"
   ]
  },
  {
   "cell_type": "code",
   "execution_count": 22,
   "metadata": {},
   "outputs": [
    {
     "name": "stdout",
     "output_type": "stream",
     "text": [
      "Enter your first name: dusty\n",
      "Enter your last name: crophopper\n",
      "Your initials are: DC\n"
     ]
    }
   ],
   "source": [
    "# create a function that takea a parameter and returns a value\n",
    "\n",
    "# function to get the first letter of the word passed to it\n",
    "def get_initial(name):\n",
    "    initial = name[0:1].upper()\n",
    "    return initial\n",
    "\n",
    "first_name = input('Enter your first name: ')\n",
    "first_name_initial = get_initial(first_name)\n",
    "last_name = input('Enter your last name: ')\n",
    "last_name_initial = get_initial(last_name)\n",
    "\n",
    "print('Your initials are: ' + first_name_initial + last_name_initial)"
   ]
  },
  {
   "cell_type": "code",
   "execution_count": 24,
   "metadata": {},
   "outputs": [
    {
     "name": "stdout",
     "output_type": "stream",
     "text": [
      "Enter your first name: dusty\n",
      "Enter your last name: crophopper\n",
      "Your initials are: DC\n"
     ]
    }
   ],
   "source": [
    "def get_initial(name):\n",
    "    initial = name[0:1].upper()\n",
    "    return initial\n",
    "\n",
    "first_name = input('Enter your first name: ')\n",
    "last_name = input('Enter your last name: ')\n",
    "\n",
    "print('Your initials are: ' + get_initial(first_name) + get_initial(last_name))"
   ]
  },
  {
   "cell_type": "markdown",
   "metadata": {},
   "source": [
    "# Day 21 - May 12, 2020"
   ]
  },
  {
   "cell_type": "code",
   "execution_count": 25,
   "metadata": {},
   "outputs": [
    {
     "name": "stdout",
     "output_type": "stream",
     "text": [
      "Enter your first name: dusty\n",
      "Enter your last name: crophopper\n",
      "Your initials are: Dc\n"
     ]
    }
   ],
   "source": [
    "# Parameterized Functions\n",
    "\n",
    "# multiple parameters\n",
    "def get_initial(name, force_uppercase):\n",
    "    if force_uppercase:\n",
    "        initial = name[0:1].upper()\n",
    "    else:\n",
    "        initial = name[0:1]\n",
    "    return initial\n",
    "\n",
    "first_name = input('Enter your first name: ')\n",
    "last_name = input('Enter your last name: ')\n",
    "\n",
    "print('Your initials are: ' + get_initial(first_name, True) + get_initial(last_name, False))"
   ]
  },
  {
   "cell_type": "code",
   "execution_count": 26,
   "metadata": {},
   "outputs": [
    {
     "name": "stdout",
     "output_type": "stream",
     "text": [
      "Enter your first name: dusty\n",
      "Enter your last name: crophopper\n",
      "Your initials are: Dc\n"
     ]
    }
   ],
   "source": [
    "# multiple parameters, with some parameters having default values\n",
    "\n",
    "def get_initial(name, force_uppercase=True):\n",
    "    if force_uppercase:\n",
    "        initial = name[0:1].upper()\n",
    "    else:\n",
    "        initial = name[0:1]\n",
    "    return initial\n",
    "\n",
    "first_name = input('Enter your first name: ')\n",
    "last_name = input('Enter your last name: ')\n",
    "\n",
    "print('Your initials are: ' + get_initial(first_name) + get_initial(last_name, False))"
   ]
  },
  {
   "cell_type": "code",
   "execution_count": 28,
   "metadata": {},
   "outputs": [
    {
     "name": "stdout",
     "output_type": "stream",
     "text": [
      "Enter your first name: dusty\n",
      "Enter your last name: crophopper\n",
      "Your initials are: Dc\n"
     ]
    }
   ],
   "source": [
    "# named notation for parameters - makes for more readable code\n",
    "\n",
    "def get_initial(name, force_uppercase=True):\n",
    "    if force_uppercase:\n",
    "        initial = name[0:1].upper()\n",
    "    else:\n",
    "        initial = name[0:1]\n",
    "    return initial\n",
    "\n",
    "first_name = input('Enter your first name: ')\n",
    "last_name = input('Enter your last name: ')\n",
    "\n",
    "print('Your initials are: ' + get_initial(first_name) + get_initial(last_name, force_uppercase=False))"
   ]
  },
  {
   "cell_type": "code",
   "execution_count": null,
   "metadata": {},
   "outputs": [],
   "source": [
    "# Modules - python files with functions, classes and other components\n",
    "\"\"\"\n",
    "import <module_name>\n",
    "import <module_name> as mn\n",
    "from <module_name> import *\n",
    "from <module_name> import <item_name>\n",
    "\"\"\""
   ]
  },
  {
   "cell_type": "code",
   "execution_count": null,
   "metadata": {},
   "outputs": [],
   "source": [
    "# Packages - published collection of modules. Search in the Python Package Index\n",
    "\"\"\"\n",
    "# installing a single package\n",
    "pip install colorama\n",
    "\n",
    "# installing from a list of packages\n",
    "pip install -r requirements.txt\n",
    "\n",
    "# contents of requirements.txt\n",
    "colorama\n",
    "\"\"\""
   ]
  },
  {
   "cell_type": "code",
   "execution_count": null,
   "metadata": {},
   "outputs": [],
   "source": [
    "# Virtual Environments - help to contain and manage package collections\n",
    "# By default, packages are installed globally\n",
    "\"\"\"\n",
    "# Creating Virtual Environments\n",
    "\n",
    "# install virtual environments\n",
    "pip install virtualenv\n",
    "\n",
    "# Windows system\n",
    "python -m venv <folder_name>\n",
    "\n",
    "# OSX/Linux (bash)\n",
    "virtualenv <folder_name> \n",
    "\"\"\""
   ]
  },
  {
   "cell_type": "code",
   "execution_count": null,
   "metadata": {},
   "outputs": [],
   "source": [
    "# Using virtual environments\n",
    "\"\"\"\n",
    "# Windows - cmd\n",
    "<folder_name>\\Scripts\\Activate.bat\n",
    "# Windows - Powershell\n",
    "<folder_name>\\Scripts\\Activate.ps1\n",
    "# Windows - Bashshell\n",
    "../<folder_name>/Scripts/activate\n",
    "\n",
    "# OSX/Linux (bash)\n",
    "<folder_name>/bin/activate\n",
    "\"\"\""
   ]
  },
  {
   "cell_type": "code",
   "execution_count": null,
   "metadata": {},
   "outputs": [],
   "source": [
    "# Installing packages in a virtual environment\n",
    "\"\"\"\n",
    "# installing a single package\n",
    "pip install colorama\n",
    "\n",
    "# installing from a list of packages\n",
    "pip install -r requirements.txt\n",
    "\n",
    "# contents of requirements.txt\n",
    "colorama\n",
    "\"\"\""
   ]
  },
  {
   "cell_type": "code",
   "execution_count": 23,
   "metadata": {},
   "outputs": [],
   "source": [
    "# Calling an API \n",
    "# need the address of the web service, the parameters to be passed, a key to access the function\n",
    "# GET request - pass values in query string only, special characters must be escaped and limited amount of data can be passed\n",
    "# POST request - pass values in query string and body, special characters ok in body and large amounts of data can be passed\n",
    "\"\"\"\n",
    "# Requests is the library for HTTP calls from python\n",
    "import requests\n",
    "import json\n",
    "\n",
    "# access key\n",
    "subscription_key = ''\n",
    "# address of the API\n",
    "service_address = \"https://...\" \n",
    "# adding the name of the function in the API to be called in the address or as per the documentation of the API\n",
    "address = service_address + \"<function_name>\" \n",
    " \n",
    "# parameters of the function from the documentation\n",
    "function_parameters = {'parameter1_name':'Values', 'parameter2_name':'Values', ... 'parametern_name':'Values'}\n",
    "\n",
    "# setting up image data\n",
    "image_path = '<image path>'\n",
    "image_data = open(image_path, 'rb').read()\n",
    "\n",
    "# data to be passed in the http header, as per the documentation\n",
    "http_headers = {'parameter1_name':'Values', 'parameter2_name':'Values', ... 'parametern_name':'Values'}\n",
    "\n",
    "# POST call for the web service\n",
    "response = requests.post(address, headers = http_headers, params = function_parameters, data = image_data)\n",
    "\n",
    "# function to raise an exception if the code returns an error\n",
    "response.raise_for_status()\n",
    "\n",
    "# display the JSON results returned\n",
    "results = response.json()\n",
    "print(json.dumps(results))\n",
    "\"\"\""
   ]
  },
  {
   "cell_type": "code",
   "execution_count": null,
   "metadata": {},
   "outputs": [],
   "source": [
    "# JSON\n",
    "\n",
    "\"\"\"\n",
    "# to read a json file, first use a json linter to reformat and read the file\n",
    "\n",
    "import json\n",
    "\n",
    "# json has three formats\n",
    "\n",
    "# 1 - key pairs - 'key':'value' \n",
    "print(json_variable_name['key'])\n",
    "\n",
    "# 2 - {\"key\":{\"subkey0\":\"subvalue0\", \"subkey1\":\"subvalue1\", ...}} OR\n",
    "print(json_variable_name['key']['subkey0']) # for the first value\n",
    "\n",
    "# 3 - {\"key\":[listvalue0, listvalue1, listvalue2,...]}\n",
    "print(json_variable_name['key']['0']) # for the first value\n",
    "for item in json_variable_name['key']: # for all items in the list\n",
    "    print[item]\n",
    "\"\"\""
   ]
  },
  {
   "cell_type": "code",
   "execution_count": 29,
   "metadata": {},
   "outputs": [],
   "source": [
    "import json"
   ]
  },
  {
   "cell_type": "code",
   "execution_count": 36,
   "metadata": {},
   "outputs": [
    {
     "name": "stdout",
     "output_type": "stream",
     "text": [
      "{'first': 'Dusty', 'last': 'Crophopper', 'City': 'Propwash Junction'}\n",
      "<class 'dict'>\n",
      "Crophopper Propwash Junction\n"
     ]
    }
   ],
   "source": [
    "# creating a json file using dictionaries\n",
    "\n",
    "person_dict = {'first':'Dusty', 'last':'Crophopper'}\n",
    "person_dict['City'] = 'Propwash Junction'\n",
    "\n",
    "print(person_dict)\n",
    "print(type(person_dict))\n",
    "print(person_dict['last'], person_dict['City'])"
   ]
  },
  {
   "cell_type": "code",
   "execution_count": 41,
   "metadata": {},
   "outputs": [
    {
     "name": "stdout",
     "output_type": "stream",
     "text": [
      "<class 'dict'>\n",
      "{'first': 'Dusty', 'last': 'Crophopper', 'City': 'Propwash Junction'}\n",
      "Dusty\n"
     ]
    }
   ],
   "source": [
    "person_json = json.dumps(person_dict)\n",
    "person_json = json.loads(person_json)\n",
    "\n",
    "print(type(person_json))\n",
    "print(person_json)\n",
    "print(person_json[\"first\"])"
   ]
  },
  {
   "cell_type": "code",
   "execution_count": 42,
   "metadata": {},
   "outputs": [
    {
     "name": "stdout",
     "output_type": "stream",
     "text": [
      "{'Crop Duster': {'first': 'Dusty', 'last': 'Crophopper', 'City': 'Propwash Junction'}}\n",
      "{'first': 'Dusty', 'last': 'Crophopper', 'City': 'Propwash Junction'}\n",
      "Crophopper\n"
     ]
    }
   ],
   "source": [
    "# nest dictionaries\n",
    "\n",
    "staff_dict = {}\n",
    "staff_dict['Crop Duster'] = person_dict\n",
    "\n",
    "print(staff_dict)\n",
    "print(staff_dict['Crop Duster'])\n",
    "print(staff_dict['Crop Duster']['last'])"
   ]
  },
  {
   "cell_type": "code",
   "execution_count": 45,
   "metadata": {},
   "outputs": [
    {
     "name": "stdout",
     "output_type": "stream",
     "text": [
      "<class 'dict'>\n",
      "{'Crop Duster': {'first': 'Dusty', 'last': 'Crophopper', 'City': 'Propwash Junction'}}\n",
      "Crophopper\n"
     ]
    }
   ],
   "source": [
    "staff_json = json.dumps(staff_dict)\n",
    "staff_json = json.loads(staff_json)\n",
    "\n",
    "print(type(staff_json))\n",
    "print(staff_json)\n",
    "print(staff_json['Crop Duster']['last'])"
   ]
  },
  {
   "cell_type": "code",
   "execution_count": 48,
   "metadata": {},
   "outputs": [
    {
     "name": "stdout",
     "output_type": "stream",
     "text": [
      "<class 'dict'>\n",
      "{'Crop Duster': {'first': 'Dusty', 'last': 'Crophopper', 'City': 'Propwash Junction'}, 'friends': ['Dotty', 'Skipper', 'Chug']}\n",
      "['Dotty', 'Skipper', 'Chug']\n",
      "Dotty\n",
      "Skipper\n",
      "Chug\n",
      "Propwash Junction\n"
     ]
    }
   ],
   "source": [
    "# adding in lists\n",
    "\n",
    "friends_list = ['Dotty', 'Skipper', 'Chug']\n",
    "staff_dict['friends'] = friends_list\n",
    "\n",
    "print(type(staff_dict))\n",
    "print(staff_dict)\n",
    "print(staff_dict['friends'])\n",
    "for item in staff_dict['friends']:\n",
    "    print(item)\n",
    "print(staff_dict['Crop Duster']['City'])"
   ]
  },
  {
   "cell_type": "code",
   "execution_count": 50,
   "metadata": {},
   "outputs": [
    {
     "name": "stdout",
     "output_type": "stream",
     "text": [
      "<class 'dict'>\n",
      "{'Crop Duster': {'first': 'Dusty', 'last': 'Crophopper', 'City': 'Propwash Junction'}, 'friends': ['Dotty', 'Skipper', 'Chug']}\n",
      "['Dotty', 'Skipper', 'Chug']\n",
      "Dotty\n",
      "Skipper\n",
      "Chug\n",
      "Propwash Junction\n"
     ]
    }
   ],
   "source": [
    "staff_json = json.dumps(staff_dict)\n",
    "staff_json = json.loads(staff_json)\n",
    "\n",
    "print(type(staff_json))\n",
    "print(staff_json)\n",
    "print(staff_json['friends'])\n",
    "for item in staff_json['friends']:\n",
    "    print(item)\n",
    "print(staff_json['Crop Duster']['City'])"
   ]
  },
  {
   "cell_type": "markdown",
   "metadata": {},
   "source": [
    "# Day 22 - May 13, 2020"
   ]
  },
  {
   "cell_type": "code",
   "execution_count": 51,
   "metadata": {},
   "outputs": [
    {
     "name": "stdout",
     "output_type": "stream",
     "text": [
      "Windows_NT\n"
     ]
    }
   ],
   "source": [
    "# Managing Keys\n",
    "\n",
    "# environmental variables - like db connection string, reading from the OS\n",
    "\n",
    "# reading an environmental variable\n",
    "import os\n",
    "os_version = os.getenv(\"OS\")\n",
    "print(os_version)"
   ]
  },
  {
   "cell_type": "code",
   "execution_count": 52,
   "metadata": {},
   "outputs": [
    {
     "name": "stdout",
     "output_type": "stream",
     "text": [
      "Requirement already satisfied: python-dotenv in c:\\users\\vaishali_bansal01\\appdata\\local\\continuum\\anaconda3\\lib\\site-packages (from -r requirements_dotenv.txt (line 1)) (0.13.0)\n",
      "Note: you may need to restart the kernel to use updated packages.\n"
     ]
    }
   ],
   "source": [
    "pip install -r \"requirements_dotenv.txt\""
   ]
  },
  {
   "cell_type": "code",
   "execution_count": 55,
   "metadata": {},
   "outputs": [
    {
     "name": "stdout",
     "output_type": "stream",
     "text": [
      "None\n"
     ]
    }
   ],
   "source": [
    "# Using dotenv, store environmental variables in a text file, rather than hardcoding\n",
    "'''\n",
    "# .env file\n",
    "DB = \"sample_connection_string\"\n",
    "\n",
    "# app.py\n",
    "from dotenv import load_dotenv\n",
    "import os\n",
    "load_dotenv()\n",
    "database = os.getenv('DB')\n",
    "print(database)\n",
    "'''"
   ]
  },
  {
   "cell_type": "code",
   "execution_count": null,
   "metadata": {},
   "outputs": [],
   "source": [
    "# dotenv first checks if the variable value was already set externally. \n",
    "# if it is, it gets the value from there, if not, from the text file\n",
    "\n",
    "# always add .env file to .gitignore"
   ]
  },
  {
   "cell_type": "code",
   "execution_count": 58,
   "metadata": {},
   "outputs": [
    {
     "name": "stdout",
     "output_type": "stream",
     "text": [
      "password123\n"
     ]
    }
   ],
   "source": [
    "from dotenv import load_dotenv\n",
    "load_dotenv() # need to specify a path if its not the same folder\n",
    "import os\n",
    "\n",
    "password = os.getenv(\"PASSWORD\")\n",
    "\n",
    "print(password)"
   ]
  },
  {
   "cell_type": "code",
   "execution_count": 59,
   "metadata": {},
   "outputs": [
    {
     "name": "stdout",
     "output_type": "stream",
     "text": [
      "logging execution\n",
      "-- Inside sample function\n",
      "done logging\n"
     ]
    }
   ],
   "source": [
    "# Decorators - they are a part of the framework that the code is going to be run in  \n",
    "# Just as objects are nouns and functions are verbs, decorators are adjectives for adding additional functionality to code\n",
    "\n",
    "# creating a decorator\n",
    "def logger(func):    # below this is the code that is going to be executed when the decorator is run\n",
    "    def wrapper():\n",
    "        print('logging execution')\n",
    "        func()    # function from the top of which the decorator was called\n",
    "        print('done logging')\n",
    "    return wrapper\n",
    "\n",
    "# calling a decorator\n",
    "@logger\n",
    "def sample():\n",
    "    print('-- Inside sample function')\n",
    "    \n",
    "sample()"
   ]
  },
  {
   "cell_type": "markdown",
   "metadata": {},
   "source": [
    "### End of Python for Beginners - YouTube playlist by Microsoft Developer"
   ]
  }
 ],
 "metadata": {
  "kernelspec": {
   "display_name": "Python 3",
   "language": "python",
   "name": "python3"
  },
  "language_info": {
   "codemirror_mode": {
    "name": "ipython",
    "version": 3
   },
   "file_extension": ".py",
   "mimetype": "text/x-python",
   "name": "python",
   "nbconvert_exporter": "python",
   "pygments_lexer": "ipython3",
   "version": "3.7.4"
  }
 },
 "nbformat": 4,
 "nbformat_minor": 2
}
