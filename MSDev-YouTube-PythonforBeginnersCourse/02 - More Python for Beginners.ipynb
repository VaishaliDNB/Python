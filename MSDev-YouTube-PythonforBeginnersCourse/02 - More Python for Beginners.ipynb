{
 "cells": [
  {
   "cell_type": "markdown",
   "metadata": {},
   "source": [
    "# Day 23 - May 14, 2020"
   ]
  },
  {
   "cell_type": "markdown",
   "metadata": {},
   "source": [
    "### More Python for Beginners - YouTube playlist by Microsoft Developer"
   ]
  },
  {
   "cell_type": "code",
   "execution_count": null,
   "metadata": {},
   "outputs": [],
   "source": [
    "# PEP 8 - Python Enhancement Proposal # 8. All about formatting\n",
    "\"\"\"\n",
    "Common Rules:\n",
    "    Spaces, not tabs\n",
    "    variable_name, not variableName or VariableName\n",
    "    Avoid extraneous whitespace\n",
    "\"\"\""
   ]
  },
  {
   "cell_type": "code",
   "execution_count": 3,
   "metadata": {},
   "outputs": [],
   "source": [
    "# Linting - identifies all formatting issues\n",
    "# pip install pylint"
   ]
  },
  {
   "cell_type": "code",
   "execution_count": null,
   "metadata": {},
   "outputs": [],
   "source": [
    "# Use docstring for inline documentation\n",
    "\n",
    "\"\"\"\n",
    "e.g. of docstring for a function\n",
    "\n",
    "    <Description of the function>\n",
    "    \n",
    "    Parameters:\n",
    "        <parameter name>: <parameter description>\n",
    "    Returns:\n",
    "        <output name>: <output description>\n",
    "\"\"\""
   ]
  },
  {
   "cell_type": "code",
   "execution_count": 5,
   "metadata": {},
   "outputs": [
    {
     "data": {
      "text/plain": [
       "'Hello, Bumblebee'"
      ]
     },
     "execution_count": 5,
     "metadata": {},
     "output_type": "execute_result"
    }
   ],
   "source": [
    "# Type hints - tells the editor and linter what data types to expect\n",
    "\n",
    "def get_greeting(name):\n",
    "    return 'Hello, ' + name\n",
    "\n",
    "get_greeting('Bumblebee')"
   ]
  },
  {
   "cell_type": "code",
   "execution_count": 6,
   "metadata": {},
   "outputs": [
    {
     "data": {
      "text/plain": [
       "'Hello, Optimus Prime'"
      ]
     },
     "execution_count": 6,
     "metadata": {},
     "output_type": "execute_result"
    }
   ],
   "source": [
    "# the below definition mentions that the input parameter is a string and that the function will return also a string\n",
    "\n",
    "def get_greeting(name: str) -> str:\n",
    "    return 'Hello, ' + name\n",
    "\n",
    "get_greeting('Optimus Prime')"
   ]
  },
  {
   "cell_type": "code",
   "execution_count": 8,
   "metadata": {},
   "outputs": [
    {
     "ename": "TypeError",
     "evalue": "'<' not supported between instances of 'dict' and 'dict'",
     "output_type": "error",
     "traceback": [
      "\u001b[1;31m---------------------------------------------------------------------------\u001b[0m",
      "\u001b[1;31mTypeError\u001b[0m                                 Traceback (most recent call last)",
      "\u001b[1;32m<ipython-input-8-948c7537a26e>\u001b[0m in \u001b[0;36m<module>\u001b[1;34m\u001b[0m\n\u001b[0;32m      6\u001b[0m ]\n\u001b[0;32m      7\u001b[0m \u001b[1;33m\u001b[0m\u001b[0m\n\u001b[1;32m----> 8\u001b[1;33m \u001b[0mtransformers\u001b[0m\u001b[1;33m.\u001b[0m\u001b[0msort\u001b[0m\u001b[1;33m(\u001b[0m\u001b[1;33m)\u001b[0m\u001b[1;33m\u001b[0m\u001b[1;33m\u001b[0m\u001b[0m\n\u001b[0m\u001b[0;32m      9\u001b[0m \u001b[0mprint\u001b[0m\u001b[1;33m(\u001b[0m\u001b[0mtransformers\u001b[0m\u001b[1;33m)\u001b[0m\u001b[1;33m\u001b[0m\u001b[1;33m\u001b[0m\u001b[0m\n",
      "\u001b[1;31mTypeError\u001b[0m: '<' not supported between instances of 'dict' and 'dict'"
     ]
    }
   ],
   "source": [
    "# Lambdas\n",
    "\n",
    "transformers = [\n",
    "    {'name': 'Optimus Prime', 'turns_into': 'Truck'},\n",
    "    {'name': 'Bumblebee', 'turns_into':'Car'}\n",
    "]\n",
    "\n",
    "transformers.sort()\n",
    "print(transformers)"
   ]
  },
  {
   "cell_type": "code",
   "execution_count": 9,
   "metadata": {},
   "outputs": [
    {
     "name": "stdout",
     "output_type": "stream",
     "text": [
      "[{'name': 'Bumblebee', 'turns_into': 'Car'}, {'name': 'Optimus Prime', 'turns_into': 'Truck'}]\n"
     ]
    }
   ],
   "source": [
    "# for sort, when sorting something complex, we can pass a key parameter. \n",
    "# This can be a function that will return each element in the list before comparing items for sorting\n",
    "\n",
    "def sorter(item):\n",
    "    return item['name']\n",
    "\n",
    "transformers = [\n",
    "    {'name': 'Optimus Prime', 'turns_into': 'Truck'},\n",
    "    {'name': 'Bumblebee', 'turns_into':'Car'}\n",
    "]\n",
    "\n",
    "transformers.sort(key = sorter)\n",
    "print(transformers)"
   ]
  },
  {
   "cell_type": "code",
   "execution_count": 13,
   "metadata": {},
   "outputs": [
    {
     "name": "stdout",
     "output_type": "stream",
     "text": [
      "[{'name': 'Bumblebee', 'turns_into': 'Car'}, {'name': 'Optimus Prime', 'turns_into': 'Truck'}]\n"
     ]
    }
   ],
   "source": [
    "# using a lambda function\n",
    "\n",
    "transformers = [\n",
    "    {'name': 'Optimus Prime', 'turns_into': 'Truck'},\n",
    "    {'name': 'Bumblebee', 'turns_into':'Car'}\n",
    "]\n",
    "\n",
    "transformers.sort(key = lambda item: item['name'])\n",
    "print(transformers)"
   ]
  },
  {
   "cell_type": "code",
   "execution_count": 14,
   "metadata": {},
   "outputs": [
    {
     "name": "stdout",
     "output_type": "stream",
     "text": [
      "[{'name': 'Bumblebee', 'turns_into': 'Car'}, {'name': 'Optimus Prime', 'turns_into': 'Truck'}]\n"
     ]
    }
   ],
   "source": [
    "# using another lambda function\n",
    "\n",
    "transformers = [\n",
    "    {'name': 'Optimus Prime', 'turns_into': 'Truck'},\n",
    "    {'name': 'Bumblebee', 'turns_into':'Car'}\n",
    "]\n",
    "\n",
    "transformers.sort(key = lambda item: len(item['name']))\n",
    "print(transformers)"
   ]
  },
  {
   "cell_type": "code",
   "execution_count": null,
   "metadata": {},
   "outputs": [],
   "source": [
    "# Classes\n",
    "# classes are nouns, properties are adjectives and methods are verbs"
   ]
  },
  {
   "cell_type": "code",
   "execution_count": 16,
   "metadata": {},
   "outputs": [],
   "source": [
    "# Creating a class\n",
    "\n",
    "class Transformer():\n",
    "    def __init__(self, name):    # first  parameter self - give access to the current instance of the object\n",
    "        # Constructor\n",
    "        self.name = name\n",
    "    def say_hello(self):\n",
    "        # method\n",
    "        print('Hello, ' + self.name)"
   ]
  },
  {
   "cell_type": "code",
   "execution_count": 23,
   "metadata": {},
   "outputs": [
    {
     "name": "stdout",
     "output_type": "stream",
     "text": [
      "Hello, BB\n"
     ]
    }
   ],
   "source": [
    "# using a class\n",
    "\n",
    "transformer = Transformer('BB')\n",
    "transformer.say_hello()"
   ]
  },
  {
   "cell_type": "code",
   "execution_count": 24,
   "metadata": {},
   "outputs": [
    {
     "name": "stdout",
     "output_type": "stream",
     "text": [
      "Hello, Bumblebee\n"
     ]
    }
   ],
   "source": [
    "transformer.name = 'Bumblebee'\n",
    "transformer.say_hello()"
   ]
  },
  {
   "cell_type": "code",
   "execution_count": null,
   "metadata": {},
   "outputs": [],
   "source": [
    "# Accessibility in Python\n",
    "\"\"\"\n",
    "1. Everything is public.\n",
    "2. Starting with _ indicates avoid using the property or method. \n",
    "3. Starting with __ means DO NOT USE\n",
    "\"\"\""
   ]
  },
  {
   "cell_type": "code",
   "execution_count": 35,
   "metadata": {},
   "outputs": [],
   "source": [
    "# creating classes using properties gives access in ways similar to fields, but using methods\n",
    "\n",
    "class Transformer():\n",
    "    def __init__(self, name):    # first  parameter self - give access to the current instance of the object\n",
    "        # Constructor\n",
    "        self.name = name\n",
    "        \n",
    "    @property\n",
    "    def name(self):\n",
    "        print('In the getter')\n",
    "        return self.__name\n",
    "    \n",
    "    @name.setter\n",
    "    def name(self, value):\n",
    "        print('In the setter')\n",
    "        self.__name = value"
   ]
  },
  {
   "cell_type": "code",
   "execution_count": 36,
   "metadata": {},
   "outputs": [
    {
     "name": "stdout",
     "output_type": "stream",
     "text": [
      "In the setter\n"
     ]
    }
   ],
   "source": [
    "# using a class with properties\n",
    "\n",
    "transformer = Transformer('OP')"
   ]
  },
  {
   "cell_type": "code",
   "execution_count": 38,
   "metadata": {},
   "outputs": [
    {
     "name": "stdout",
     "output_type": "stream",
     "text": [
      "In the getter\n",
      "OP\n"
     ]
    }
   ],
   "source": [
    "print(transformer.name)"
   ]
  },
  {
   "cell_type": "code",
   "execution_count": 41,
   "metadata": {},
   "outputs": [
    {
     "name": "stdout",
     "output_type": "stream",
     "text": [
      "In the setter\n"
     ]
    }
   ],
   "source": [
    "transformer.name = 'Optimus Prime'"
   ]
  },
  {
   "cell_type": "code",
   "execution_count": 42,
   "metadata": {},
   "outputs": [
    {
     "name": "stdout",
     "output_type": "stream",
     "text": [
      "In the getter\n",
      "Optimus Prime\n"
     ]
    }
   ],
   "source": [
    "print(transformer.name)"
   ]
  },
  {
   "cell_type": "code",
   "execution_count": 43,
   "metadata": {},
   "outputs": [
    {
     "name": "stdout",
     "output_type": "stream",
     "text": [
      "In the getter\n"
     ]
    }
   ],
   "source": [
    "x = transformer.name"
   ]
  },
  {
   "cell_type": "code",
   "execution_count": 44,
   "metadata": {},
   "outputs": [
    {
     "name": "stdout",
     "output_type": "stream",
     "text": [
      "Optimus Prime\n"
     ]
    }
   ],
   "source": [
    "print (x)"
   ]
  },
  {
   "cell_type": "markdown",
   "metadata": {},
   "source": [
    "# Day 24 - May 15, 2020"
   ]
  },
  {
   "cell_type": "code",
   "execution_count": null,
   "metadata": {},
   "outputs": [],
   "source": [
    "# Inheritance - Creates an 'is a' relationship\n",
    "# As opposed to Properties, that creates a 'has a' relationship\n",
    "\"\"\"\n",
    "Notes:\n",
    "    1. All methods in python are virtual - their behavior can be overridden\n",
    "    2. To access parent class, use 'super'\n",
    "    3. Must always call parent constructor\n",
    "\"\"\""
   ]
  },
  {
   "cell_type": "code",
   "execution_count": 1,
   "metadata": {},
   "outputs": [],
   "source": [
    "class Person():\n",
    "    def __init__(self, name):\n",
    "        self.name = name\n",
    "    def say_hello(self):\n",
    "        print('Hello, ' + self.name)\n",
    "\n",
    "class Student(Person):\n",
    "    def __init__(self, name, school):\n",
    "        # when deriving from a parent class, you need to call the parent constructor if you need to setup anything there\n",
    "        super().__init__(name)\n",
    "        self.school = school\n",
    "    def sing_school_song(self):\n",
    "        print('Ode to ' + self.school)"
   ]
  },
  {
   "cell_type": "code",
   "execution_count": 2,
   "metadata": {},
   "outputs": [
    {
     "name": "stdout",
     "output_type": "stream",
     "text": [
      "Hello, Om\n",
      "Ode to The Atelier\n"
     ]
    }
   ],
   "source": [
    "student = Student('Om', 'The Atelier')\n",
    "student.say_hello()\n",
    "student.sing_school_song()"
   ]
  },
  {
   "cell_type": "code",
   "execution_count": 5,
   "metadata": {},
   "outputs": [
    {
     "name": "stdout",
     "output_type": "stream",
     "text": [
      "Is student a Student? True\n",
      "Is student a Person? True\n",
      "Is Student a Person? True\n"
     ]
    }
   ],
   "source": [
    "# What are you\n",
    "print(f'Is student a Student? {isinstance(student, Student)}')\n",
    "print(f'Is student a Person? {isinstance(student, Person)}')\n",
    "print(f'Is Student a Person? {issubclass(Student, Person)}')"
   ]
  },
  {
   "cell_type": "code",
   "execution_count": 15,
   "metadata": {},
   "outputs": [],
   "source": [
    "# Overriding the base object behaviour\n",
    "\n",
    "class Person():\n",
    "    def __init__(self, name):\n",
    "        self.name = name\n",
    "    def say_hello(self):\n",
    "        print('Hello, ' + self.name)\n",
    "    def __str__(self):    # overriding __str__ to show it how to print the Person object\n",
    "        return self.name\n",
    "\n",
    "class Student(Person):\n",
    "    def __init__(self, name, school):\n",
    "        # when deriving from a parent class, you need to call the parent constructor if you need to setup anything there\n",
    "        super().__init__(name)\n",
    "        self.school = school\n",
    "    def sing_school_song(self):\n",
    "        print('Ode to ' + self.school)\n",
    "    def say_hello(self):    # overriding the say_hello functionality from Person\n",
    "        # parent functionality\n",
    "        super().say_hello()\n",
    "        # add on a custom code\n",
    "        print('I am hangry')\n",
    "    def __str__(self):\n",
    "        return f'{self.name} attends {self.school}'"
   ]
  },
  {
   "cell_type": "code",
   "execution_count": 16,
   "metadata": {},
   "outputs": [
    {
     "name": "stdout",
     "output_type": "stream",
     "text": [
      "Om attends The Atelier\n"
     ]
    }
   ],
   "source": [
    "student = Student('Om', 'The Atelier')\n",
    "print(student)"
   ]
  },
  {
   "cell_type": "code",
   "execution_count": null,
   "metadata": {},
   "outputs": [],
   "source": [
    "student.say_hello()\n",
    "# student.sing_school_song()"
   ]
  },
  {
   "cell_type": "code",
   "execution_count": 36,
   "metadata": {},
   "outputs": [],
   "source": [
    "# Mixins - Multiple Inheritance - inheriting from multiple classes\n",
    "\n",
    "# Creating supporting classes\n",
    "\n",
    "class Loggable:\n",
    "    def __init__(self):\n",
    "        self.title = ''\n",
    "    def log(self):\n",
    "        print('Log message from: ' + self.title)\n",
    "        \n",
    "class Connection:\n",
    "    def __init__(self):\n",
    "        self.server=''\n",
    "    def connect(self):\n",
    "        print('Connecting to database on: ' + self.server)"
   ]
  },
  {
   "cell_type": "code",
   "execution_count": 37,
   "metadata": {},
   "outputs": [],
   "source": [
    "# Create our framework\n",
    "\n",
    "def framework(item):\n",
    "    # perform the connection\n",
    "    if isinstance(item, Connection):\n",
    "        item.connect()\n",
    "    # log the operation\n",
    "    if isinstance(item, Loggable):\n",
    "        item.log()"
   ]
  },
  {
   "cell_type": "code",
   "execution_count": 38,
   "metadata": {},
   "outputs": [],
   "source": [
    "# use the framework\n",
    "\n",
    "# create our database class - inheriting from connection and loggable both, \n",
    "\n",
    "class SqlDatabase(Connection, Loggable):\n",
    "    def __init__(self):\n",
    "        super().__init__()\n",
    "        self.title = 'SQL connection'\n",
    "        self.server = 'SQL server'"
   ]
  },
  {
   "cell_type": "code",
   "execution_count": 41,
   "metadata": {},
   "outputs": [
    {
     "name": "stdout",
     "output_type": "stream",
     "text": [
      "Connecting to database on: SQL server\n",
      "Log message from: SQL connection\n"
     ]
    }
   ],
   "source": [
    "sql_connection = SqlDatabase()\n",
    "framework(sql_connection)"
   ]
  },
  {
   "cell_type": "code",
   "execution_count": 42,
   "metadata": {},
   "outputs": [],
   "source": [
    "# create a logging only class - inheriting only from loggable\n",
    "\n",
    "class JustLog(Loggable):\n",
    "    def __init__(self):\n",
    "        self.title = 'Just Logging'"
   ]
  },
  {
   "cell_type": "code",
   "execution_count": 43,
   "metadata": {},
   "outputs": [
    {
     "name": "stdout",
     "output_type": "stream",
     "text": [
      "Log message from: Just Logging\n"
     ]
    }
   ],
   "source": [
    "just_log = JustLog()\n",
    "framework(just_log)"
   ]
  },
  {
   "cell_type": "code",
   "execution_count": null,
   "metadata": {},
   "outputs": [],
   "source": [
    "\"\"\"\n",
    "Note - mixins or multiple inheritence is not usually used when building an app. \n",
    "its usually only used when building a framework. \n",
    "or while using the functionality of a framework\n",
    "\"\"\""
   ]
  },
  {
   "cell_type": "code",
   "execution_count": 77,
   "metadata": {},
   "outputs": [],
   "source": [
    "# Managing the file system using pathlib (python 3.6 onwards)\n",
    "from pathlib import Path"
   ]
  },
  {
   "cell_type": "code",
   "execution_count": 78,
   "metadata": {},
   "outputs": [
    {
     "name": "stdout",
     "output_type": "stream",
     "text": [
      "D:\\Learning Data Science\\YouTube - Python for Beginners\n"
     ]
    }
   ],
   "source": [
    "# current folder\n",
    "cwd = Path.cwd()\n",
    "print(cwd)"
   ]
  },
  {
   "cell_type": "code",
   "execution_count": 79,
   "metadata": {},
   "outputs": [
    {
     "name": "stdout",
     "output_type": "stream",
     "text": [
      "D:\\Learning Data Science\\YouTube - Python for Beginners\\newfile.txt\n"
     ]
    }
   ],
   "source": [
    "# combine file names to create full path and file name\n",
    "new_file = Path.joinpath(cwd, 'newfile.txt')\n",
    "print(new_file)"
   ]
  },
  {
   "cell_type": "code",
   "execution_count": 80,
   "metadata": {},
   "outputs": [
    {
     "name": "stdout",
     "output_type": "stream",
     "text": [
      "False\n"
     ]
    }
   ],
   "source": [
    "# check to see if a file exists, before we start to use that file\n",
    "print(new_file.exists())"
   ]
  },
  {
   "cell_type": "code",
   "execution_count": 81,
   "metadata": {},
   "outputs": [
    {
     "name": "stdout",
     "output_type": "stream",
     "text": [
      "D:\\Learning Data Science\n"
     ]
    }
   ],
   "source": [
    "# working with directories\n",
    "\n",
    "# get the parent directory\n",
    "parent = cwd.parent\n",
    "print(parent)"
   ]
  },
  {
   "cell_type": "code",
   "execution_count": 84,
   "metadata": {},
   "outputs": [
    {
     "name": "stdout",
     "output_type": "stream",
     "text": [
      "Is this a directory? True\n"
     ]
    }
   ],
   "source": [
    "# is this a directory\n",
    "print('Is this a directory? ' + str(parent.is_dir()))"
   ]
  },
  {
   "cell_type": "code",
   "execution_count": 85,
   "metadata": {},
   "outputs": [
    {
     "name": "stdout",
     "output_type": "stream",
     "text": [
      "Is this a file? False\n"
     ]
    }
   ],
   "source": [
    "# is this a file\n",
    "print('Is this a file? ' + str(parent.is_file()))"
   ]
  },
  {
   "cell_type": "code",
   "execution_count": 86,
   "metadata": {},
   "outputs": [
    {
     "name": "stdout",
     "output_type": "stream",
     "text": [
      "D:\\Learning Data Science\\Book - Data Science from Scratch\n",
      "D:\\Learning Data Science\\Book - ISLR\n",
      "D:\\Learning Data Science\\Courses - Infosys Lex\n",
      "D:\\Learning Data Science\\Python - Pandas\n",
      "D:\\Learning Data Science\\YouTube - Python for Beginners\n"
     ]
    }
   ],
   "source": [
    "# list child directories of parent folder\n",
    "for child in parent.iterdir():\n",
    "    if child.is_dir():\n",
    "        print(child)"
   ]
  },
  {
   "cell_type": "code",
   "execution_count": 87,
   "metadata": {},
   "outputs": [
    {
     "name": "stdout",
     "output_type": "stream",
     "text": [
      "D:\\Learning Data Science\\YouTube - Python for Beginners\\.ipynb_checkpoints\n",
      "D:\\Learning Data Science\\YouTube - Python for Beginners\\dotenv.env\n",
      "D:\\Learning Data Science\\YouTube - Python for Beginners\\Jupyter Notebook.lnk\n",
      "D:\\Learning Data Science\\YouTube - Python for Beginners\\More Python for Beginners.ipynb\n",
      "D:\\Learning Data Science\\YouTube - Python for Beginners\\Python for Beginners.ipynb\n",
      "D:\\Learning Data Science\\YouTube - Python for Beginners\\requirements_dotenv.txt\n"
     ]
    }
   ],
   "source": [
    "# list all contents of current folder\n",
    "for file in Path.cwd().iterdir():\n",
    "    print(file)"
   ]
  },
  {
   "cell_type": "code",
   "execution_count": 75,
   "metadata": {},
   "outputs": [
    {
     "name": "stdout",
     "output_type": "stream",
     "text": [
      "newfile.txt\n",
      ".txt\n",
      "YouTube - Python for Beginners\n",
      "47212\n"
     ]
    }
   ],
   "source": [
    "# Working with files\n",
    "\n",
    "print(new_file.name)    #name\n",
    "print(new_file.suffix)    # extension\n",
    "print(new_file.parent.name)    # folder\n",
    "real_file = Path.joinpath(cwd, 'Python for Beginners.ipynb')\n",
    "print(real_file.stat().st_size)    # file size in KB"
   ]
  },
  {
   "cell_type": "markdown",
   "metadata": {},
   "source": [
    "# Day 25 - May 16, 2020"
   ]
  },
  {
   "cell_type": "code",
   "execution_count": 13,
   "metadata": {},
   "outputs": [
    {
     "data": {
      "text/plain": [
       "'\\nstream = open(file_name, mode, buffer_size)\\n\\nModes:\\n    r - read (default)\\n    w - truncate and write\\n    a - append if file exists\\n    x - write, fail if file exists\\n    + - updating (read/write)\\n    \\n    t - Text (default)\\n    b - Binary\\n'"
      ]
     },
     "execution_count": 13,
     "metadata": {},
     "output_type": "execute_result"
    }
   ],
   "source": [
    "# Working with files\n",
    "\n",
    "# opening a file using a stream object\n",
    "\"\"\"\n",
    "stream = open(file_name, mode, buffer_size)\n",
    "\n",
    "Modes:\n",
    "    r - read (default)\n",
    "    w - truncate and write\n",
    "    a - append if file exists\n",
    "    x - write, fail if file exists\n",
    "    + - updating (read/write)\n",
    "    \n",
    "    t - Text (default)\n",
    "    b - Binary\n",
    "\"\"\""
   ]
  },
  {
   "cell_type": "code",
   "execution_count": 50,
   "metadata": {},
   "outputs": [
    {
     "name": "stdout",
     "output_type": "stream",
     "text": [
      "Can we read this stream? True\n",
      "First character of the file? L\n",
      "Read the rest of the current line of the file:\n",
      " orem ipsum dolor sit amet, consectetur adipiscing elit, sed do eiusmod tempor incididunt ut labore et dolore magna aliqua. Ut enim ad minim veniam, quis nostrud exercitation ullamco laboris nisi ut aliquip ex ea commodo consequat. Duis aute irure dolor in reprehenderit in voluptate velit esse cillum dolore eu fugiat nulla pariatur. Excepteur sint occaecat cupidatat non proident, sunt in culpa qui officia deserunt mollit anim id est laborum.\n",
      "\n",
      "Read all lines till the end of the file:\n",
      " ['\\n', 'Curabitur pretium tincidunt lacus. Nulla gravida orci a odio. Nullam varius, turpis et commodo pharetra, est eros bibendum elit, nec luctus magna felis sollicitudin mauris. Integer in mauris eu nibh euismod gravida. Duis ac tellus et risus vulputate vehicula. Donec lobortis risus a elit. Etiam tempor. Ut ullamcorper, ligula eu tempor congue, eros est euismod turpis, id tincidunt sapien risus a quam. Maecenas fermentum consequat mi. Donec fermentum. Pellentesque malesuada nulla a mi. Duis sapien sem, aliquet nec, commodo eget, consequat quis, neque. Aliquam faucibus, elit ut dictum aliquet, felis nisl adipiscing sapien, sed malesuada diam lacus eget erat. Cras mollis scelerisque nunc. Nullam arcu. Aliquam consequat. Curabitur augue lorem, dapibus quis, laoreet et, pretium ac, nisi. Aenean magna nisl, mollis quis, molestie eu, feugiat in, orci. In hac habitasse platea dictumst.']\n"
     ]
    }
   ],
   "source": [
    "# reading from a file\n",
    "\n",
    "stream = open('demo.txt')\n",
    "\n",
    "# stream.readlines()\n",
    "\n",
    "print(f'Can we read this stream? {stream.readable()}')\n",
    "print('First character of the file? ' + stream.read(1))\n",
    "print('Read the rest of the current line of the file:\\n ' + stream.readline())\n",
    "print(f'Read all lines till the end of the file:\\n {stream.readlines()}')\n",
    "stream.close()    # close the stream"
   ]
  },
  {
   "cell_type": "code",
   "execution_count": 55,
   "metadata": {},
   "outputs": [],
   "source": [
    "# writing to a file\n",
    "\n",
    "stream = open('output.txt', 'wt')\n",
    "\n",
    "# write text\n",
    "stream.write('H')\n",
    "stream.write('ello world')\n",
    "stream.write('\\n')\n",
    "\n",
    "# write multiple strings\n",
    "stream.writelines(['Hello', ' ', 'Hello '])\n",
    "\n",
    "# writing a list of strings\n",
    "name = ['Vaishali ', 'Bansal!']\n",
    "stream.writelines(name)"
   ]
  },
  {
   "cell_type": "code",
   "execution_count": 56,
   "metadata": {},
   "outputs": [],
   "source": [
    "# close the stream and flush data\n",
    "stream.close()"
   ]
  },
  {
   "cell_type": "code",
   "execution_count": 59,
   "metadata": {},
   "outputs": [],
   "source": [
    "stream = open('output.txt', 'at') # appending to the file\n",
    "\n",
    "stream.write('\\n')   \n",
    "stream.writelines('\\n'.join(name))    # inserting a new line between each item in the list    \n",
    "stream.close()    # flush and close the stream"
   ]
  },
  {
   "cell_type": "code",
   "execution_count": 60,
   "metadata": {},
   "outputs": [],
   "source": [
    "# managing the stream\n",
    "\n",
    "stream = open('cool.txt', 'wt')\n",
    "\n",
    "stream.write('Demo!')    # writing to the stream\n",
    "stream.seek(0)    # putting the cursor back at the beginning of Demo\n",
    "stream.write('Cool')    # overwriting\n",
    "stream.flush()    # write the data to file, but not saved to disk yet, the OS decides that\n",
    "stream.close()    # flush and close the stream"
   ]
  },
  {
   "cell_type": "code",
   "execution_count": 70,
   "metadata": {},
   "outputs": [],
   "source": [
    "# Cleanup with with\n",
    "# the stream has to always be closed at the end of the code. \n",
    "stream = open('with.txt', 'wt')\n",
    "stream.write('Lorem ipsum dolor')\n",
    "stream.close()"
   ]
  },
  {
   "cell_type": "code",
   "execution_count": 71,
   "metadata": {},
   "outputs": [],
   "source": [
    "# in case of an error in the code, we can catch the error using try/finally and make sure that the stream is closed\n",
    "try:\n",
    "    stream = open('with.txt', 'at')\n",
    "    stream.write('\\nLorem ipsum dolor')\n",
    "finally:\n",
    "    stream.close()"
   ]
  },
  {
   "cell_type": "code",
   "execution_count": 72,
   "metadata": {},
   "outputs": [],
   "source": [
    "# or we can just use with for making sure that the stream is closed\n",
    "\n",
    "with open('with.txt', 'at') as stream:\n",
    "    stream.write('\\nLorem ipsum dolor')\n",
    "    \n",
    "# with can be used with any objects that need to be closed once done with it, not only stream"
   ]
  },
  {
   "cell_type": "code",
   "execution_count": 5,
   "metadata": {},
   "outputs": [],
   "source": [
    "# Asynchronous Operations using asynchio module e.g. while waiting for web service calls\n",
    "# asynchio provides asynchronous streams, synchronization (locking/unlocking), exception management and async/await\n",
    "\n",
    "# Synchronous version\n",
    "from timeit import default_timer\n",
    "import requests    # need this for making http calls, it is a synchronous library\n",
    "\n",
    "# delays by 'delay' seconds\n",
    "def load_data(delay):\n",
    "    print(f'Starting {delay} second timer')\n",
    "    text = requests.get(f'http://httpbin.org/delay/{delay}').text\n",
    "    print(f'Completed {delay} second timer')\n",
    "    return text\n",
    "\n",
    "def run_demo():\n",
    "    start_time = default_timer() #logging the operation time\n",
    "    \n",
    "    two_data = load_data(2)\n",
    "    three_data = load_data(3)\n",
    "        \n",
    "    elapsed_time = default_timer() - start_time\n",
    "    print(f'The operation took {elapsed_time:.2} seconds')\n",
    "        \n",
    "def main_sync():\n",
    "    run_demo()"
   ]
  },
  {
   "cell_type": "code",
   "execution_count": 6,
   "metadata": {},
   "outputs": [
    {
     "name": "stdout",
     "output_type": "stream",
     "text": [
      "Starting 2 second timer\n",
      "Completed 2 second timer\n",
      "Starting 3 second timer\n",
      "Completed 3 second timer\n",
      "The operation took 6.2 seconds\n"
     ]
    }
   ],
   "source": [
    "main_sync()"
   ]
  },
  {
   "cell_type": "code",
   "execution_count": 7,
   "metadata": {},
   "outputs": [],
   "source": [
    "# Asynchronous version\n",
    "# defining async function using aiohttp\n",
    "from timeit import default_timer\n",
    "import aiohttp    # library for making asynchronous http calls\n",
    "import asyncio\n",
    "\n",
    "# async here means that i can await on this function and put awaits inside of that\n",
    "async def load_data(session, delay):\n",
    "    print(f'Starting {delay} second timer')\n",
    "    async with session.get(f'http://httpbin.org/delay/{delay}') as resp:\n",
    "        text = await resp.text    # await here means code is paused here until this finishes execution \n",
    "        print(f'Completed {delay} second timer')\n",
    "        return text\n",
    "\n",
    "# async here means that i can await on this function and put awaits inside of that\n",
    "async def main_async():\n",
    "    start_time = default_timer() #logging the operation time\n",
    "    \n",
    "    async with aiohttp.ClientSession() as session:\n",
    "        # setting up the long running tasks here\n",
    "        two_task = asyncio.create_task(load_data(session, 2))\n",
    "        three_task = asyncio.create_task(load_data(session, 3))\n",
    "        \n",
    "        # simulate other processing\n",
    "        await asyncio.sleep(1)\n",
    "        print(\"Doing other work\")\n",
    "        \n",
    "        # getting the values back from the tasks\n",
    "        two_result = await two_task    # await here means code is paused here until this finishes execution \n",
    "        three_result = await three_task    # await here means code is paused here until this finishes execution \n",
    "                                         \n",
    "        elapsed_time = default_timer() - start_time\n",
    "        print(f'The operation took {elapsed_time:.2} seconds')"
   ]
  },
  {
   "cell_type": "code",
   "execution_count": 8,
   "metadata": {},
   "outputs": [
    {
     "data": {
      "text/plain": [
       "<coroutine object main_async at 0x00000218382B8D48>"
      ]
     },
     "execution_count": 8,
     "metadata": {},
     "output_type": "execute_result"
    }
   ],
   "source": [
    "main_async()"
   ]
  },
  {
   "cell_type": "markdown",
   "metadata": {},
   "source": [
    "### End of More Python for Beginners"
   ]
  }
 ],
 "metadata": {
  "kernelspec": {
   "display_name": "Python 3",
   "language": "python",
   "name": "python3"
  },
  "language_info": {
   "codemirror_mode": {
    "name": "ipython",
    "version": 3
   },
   "file_extension": ".py",
   "mimetype": "text/x-python",
   "name": "python",
   "nbconvert_exporter": "python",
   "pygments_lexer": "ipython3",
   "version": "3.7.4"
  }
 },
 "nbformat": 4,
 "nbformat_minor": 2
}
